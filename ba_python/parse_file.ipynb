{
 "cells": [
  {
   "cell_type": "code",
   "execution_count": 218,
   "metadata": {},
   "outputs": [],
   "source": [
    "import pandas\n",
    "import re"
   ]
  },
  {
   "cell_type": "code",
   "execution_count": 219,
   "metadata": {},
   "outputs": [],
   "source": [
    "with open('everything2.txt', 'r', encoding=\"cp437\") as f:\n",
    "    text = f.read()\n",
    "\n",
    "with open('Humanist.vol27.txt', 'r', encoding=\"cp437\") as f:\n",
    "    text27 = f.read()\n",
    "\n",
    "with open('Humanist.vol32.txt', 'r', encoding=\"cp437\") as f:\n",
    "    text32 = f.read()\n"
   ]
  },
  {
   "cell_type": "code",
   "execution_count": 220,
   "metadata": {},
   "outputs": [],
   "source": [
    "#Concat files\n",
    "text = text + text32\n",
    "#Creating list of Lines of \"text\"\n",
    "lines = text.split(\"\\n\")"
   ]
  },
  {
   "cell_type": "code",
   "execution_count": 221,
   "metadata": {},
   "outputs": [
    {
     "name": "stdout",
     "output_type": "stream",
     "text": [
      "2723325\n"
     ]
    }
   ],
   "source": [
    "print(len(lines))"
   ]
  },
  {
   "cell_type": "code",
   "execution_count": 222,
   "metadata": {},
   "outputs": [],
   "source": [
    "#Creating dict of diffent mail header types\n",
    "patterns = {\n",
    "    \"1\": [\n",
    "        r\"^\\s*From: (?P<sender>.*)\",\n",
    "        r\"^\\s*Subject: (?P<subject>.*)\",\n",
    "        r\"^\\s*Date: (?P<date>.*)\",\n",
    "        r\"^\\s*X-Humanist: (?P<humanist>.*)\"\n",
    "    ],\n",
    "    \"2\": [\n",
    "        r\"^\\s*From - (?P<date>.*)\",\n",
    "        r\"^\\s*X-Mozilla-Status: (?P<data>.*)\",\n",
    "        r\"^\\s*X-Mozilla-Status2: (?P<data>.*)\",\n",
    "        r\"^\\s*Return-path: (?P<data>.*)\"\n",
    "    ],\n",
    "    \"3\": [\n",
    "        r\"^\\s*From (?P<head>.*)\",\n",
    "        r\"^\\s*Return-Path: (?P<sender>.*)\",\n",
    "        r\"^\\s*X-Original-To: (?P<subject>.*)\"\n",
    "    ],\n",
    "    \"4\": [\n",
    "        r\"^\\s*Return-Path: (?P<sender>.*)\",\n",
    "        r\"^\\s*X-Original-To: (?P<subject>.*)\",\n",
    "        r\"^\\s*Delivered-To: (?P<subject>.*)\",\n",
    "        r\"^\\s*Received: (?P<subject>.*)\"\n",
    "    ],\n",
    "    \"5\": [\n",
    "        r\"^\\s*Return-Path: (?P<sender>.*)\",\n",
    "        r\"^\\s*X-Spam-Checker-Version: (?P<subject>.*)\"\n",
    "    ]\n",
    "}\n"
   ]
  },
  {
   "cell_type": "code",
   "execution_count": 223,
   "metadata": {},
   "outputs": [],
   "source": [
    "#Function to get the key of the current pattern\n",
    "def get_keys_from_value(patterns, val):\n",
    "    return [k for k, v in patterns.items() if v == val]"
   ]
  },
  {
   "cell_type": "code",
   "execution_count": 224,
   "metadata": {},
   "outputs": [],
   "source": [
    "\n",
    "#Version 5\n",
    "#Function to get the header of the current mail as str\n",
    "def get_header_content_sum(start):\n",
    "    header_len = 0\n",
    "    header_content_sum = \"\"\n",
    "    header_content_current = \"\"\n",
    "    for i in range(start,len(lines)):\n",
    "        #Mail starts after Null-Line\n",
    "        #if (\"\" in lines[i]):\n",
    "        #    header_len = i\n",
    "        #    return header_content_sum, header_len\n",
    "        \n",
    "        #Mail starts with part of line \"Humanist Discussion Group, Vol. \"\n",
    "        if (\"Humanist Discussion Group, Vol. \" in lines[i]):\n",
    "            header_len = i\n",
    "            return header_content_sum, header_len\n",
    "        #Mail starts aftre \"Content-Transfer-Encoding: base64\"\n",
    "        if ((\"X-PPP-Vhost: \" in lines[i]) & (lines[i+1] == \"\") & (lines[i+4] == \"\") & (\"Humanist Discussion Group, Vol. \" not in lines[i+5]) & (\"Humanist Discussion Group, Vol. \" not in lines[i+6]) & (\"Humanist Discussion Group, Vol. \" not in lines[i+7])):\n",
    "            header_len = i\n",
    "            header_len = header_len + 5\n",
    "            return header_content_sum, header_len\n",
    "        #Mail starts after \"X-PPP-Vhost: digitalhumanities.org\"\n",
    "        if ((\"X-PPP-Vhost: \" in lines[i]) & (lines[i+1] == \"\") & (\"Humanist Discussion Group, Vol. \" not in lines[i+2]) & (\"Humanist Discussion Group, Vol. \" not in lines[i+3]) & (\"Humanist Discussion Group, Vol. \" not in lines[i+4]) & (\"Humanist Discussion Group, Vol. \" not in lines[i+5]) & (\"Humanist Discussion Group, Vol. \" not in lines[i+6])):\n",
    "            header_len = i\n",
    "            header_len = header_len + 2\n",
    "            return header_content_sum, header_len\n",
    "        #Mail starts after \"Errors-To: humanist-bounces@lists.digitalhumanities.org\"\n",
    "        if ((\"Errors-To: \" in lines[i]) & (lines[i+1] == \"\") & (\"Humanist Discussion Group, Vol. \" not in lines[i+2]) & (\"Humanist Discussion Group, Vol. \" not in lines[i+3]) & (\"Humanist Discussion Group, Vol. \" not in lines[i+4]) & (\"Humanist Discussion Group, Vol. \" not in lines[i+5]) & (\"Humanist Discussion Group, Vol. \" not in lines[i+6])):\n",
    "            header_len = i\n",
    "            header_len = header_len + 2\n",
    "            return header_content_sum, header_len\n",
    "        header_len = header_len +1\n",
    "        header_content_current = lines[i]\n",
    "        header_content_sum = header_content_sum + \"[/n]\" + header_content_current\n",
    "        header_content_current = \"\"\n",
    "        \n"
   ]
  },
  {
   "cell_type": "code",
   "execution_count": 225,
   "metadata": {},
   "outputs": [
    {
     "name": "stdout",
     "output_type": "stream",
     "text": [
      "36462\n"
     ]
    }
   ],
   "source": [
    "#Version 5\n",
    "#Parse through lines\n",
    "lines_with_patterns = []\n",
    "count = 0\n",
    "x_humanist = \"\"\n",
    "mail_content_sum = \"\"\n",
    "mail_content_current = \"\"\n",
    "for i in range(len(lines)):\n",
    "        for pattern in patterns.values():\n",
    "            window_length = len(pattern)\n",
    "            window = lines[i: i + window_length]\n",
    "            lines_patterns = zip(window, pattern)\n",
    "            matches = []\n",
    "            for l, p in lines_patterns:\n",
    "                m = re.match(p, l)\n",
    "                if m:\n",
    "                    matches.append(m.groupdict())\n",
    "            if len(matches) == len(pattern):\n",
    "                if (\"From \" in lines[i-1]): #Exclusion of recognizing pattern 3 and 4 for the same mail\n",
    "                     continue\n",
    "                keys = get_keys_from_value(patterns, pattern) #Get key of the current mail pattern\n",
    "                header = list(map(int, keys))\n",
    "                count = count +1\n",
    "\n",
    "                if header[0] == 1:\n",
    "                    lines_with_patterns.append( #Append a new row with current content to list\n",
    "                        {\n",
    "                            \"mailFrom\": lines[i],\n",
    "                            \"mailSubject\": lines[i+1],\n",
    "                            \"mailDate\": lines[i+2],\n",
    "                            \"mail_x-humanist\": lines[i+3],\n",
    "                            \"mailPattern\": keys,\n",
    "                            \"mailHeader_count\": count,\n",
    "                            \"mailContent\": mail_content_sum,\n",
    "                            \"mailMultiple\": \"\"\n",
    "                        }\n",
    "                    )\n",
    "                    if mail_content_sum != \"\":\n",
    "                         lines_with_patterns[count-2][\"mailContent\"] = mail_content_sum #Adding content to a specific position in the list\n",
    "                         mail_content_sum = \"\"\n",
    "\n",
    "                if (header[0] == 2) | (header[0] == 3) | (header[0] == 4) | (header[0] == 5):\n",
    "                    content_header_sum, header_len = get_header_content_sum(i)\n",
    "                    if (header_len) < len(lines):\n",
    "                         x_humanist = lines[header_len]\n",
    "                    lines_with_patterns.append(\n",
    "                        {\n",
    "                            \"mail_x-humanist\": x_humanist,\n",
    "                            \"mailPattern\": keys,\n",
    "                            \"mailHeader_count\": count,\n",
    "                            \"mailHeader_content\": content_header_sum,\n",
    "                            \"mailContent\": mail_content_sum,\n",
    "                            \"mailMultiple\": \"\"\n",
    "                        }\n",
    "                    )\n",
    "                    x_humanist = \"\"\n",
    "                    if mail_content_sum != \"\":\n",
    "                         lines_with_patterns[count-2][\"mailContent\"] = mail_content_sum\n",
    "                         mail_content_sum = \"\"\n",
    "\n",
    "        if header[0] == 1: \n",
    "            mail_content_current = lines[i+5]\n",
    "            mail_content_sum = mail_content_sum + \"<br>\" + mail_content_current #Sum up the lines to capture the content of the current mail\n",
    "            mail_content_current = \"\"\n",
    "\n",
    "        if (header[0] == 2) | (header[0] == 3) | (header[0] == 4) | (header[0] == 5):\n",
    "            if header_len <= i:\n",
    "                mail_content_current = lines[i]\n",
    "                mail_content_sum = mail_content_sum + \"<br>\" + mail_content_current\n",
    "                mail_content_current = \"\"\n",
    "            \n",
    "            if (i+1) == len(lines):\n",
    "                         lines_with_patterns[count-1][\"mailContent\"] = mail_content_sum #Adding content to the last position in the list\n",
    "                         mail_content_sum = \"\"\n",
    "            \n",
    "print(len(lines_with_patterns))"
   ]
  },
  {
   "cell_type": "code",
   "execution_count": 226,
   "metadata": {},
   "outputs": [],
   "source": [
    "#Creating Dataframe\n",
    "dF = pandas.DataFrame(lines_with_patterns)"
   ]
  },
  {
   "cell_type": "code",
   "execution_count": 227,
   "metadata": {},
   "outputs": [],
   "source": [
    "#List entries containing NaN are replaced by an empty string\n",
    "dF.fillna('', inplace=True)"
   ]
  },
  {
   "cell_type": "code",
   "execution_count": 228,
   "metadata": {},
   "outputs": [],
   "source": [
    "#Specific parts of list entries are replaced by an empty string\n",
    "#dF[\"mailDate\"] = dF[\"mailContent\"].str.extract(REGEX, regex = True) \n",
    "dF[\"mailDate\"] = dF[\"mailContent\"].str.extract(r\"Date: (.+?)<br>\", expand=False)\n",
    "dF[\"mailYear\"] = dF[\"mailDate\"].str.extract(r\"\\b(198[7-9]|199\\d|200\\d|201[0-8]|8[7-9]|9[0-9])\\b\", expand=False)\n",
    "\n",
    "\n",
    "dF[\"mailFrom\"] = dF[\"mailFrom\"].replace(to_replace = \"From: \", value =\"\", regex = True) #\n",
    "dF[\"mailSubject\"] = dF[\"mailSubject\"].replace(to_replace = \"Subject: \", value =\"\", regex = True)\n",
    "dF[\"mailDate\"] = dF[\"mailDate\"].replace(to_replace = \"Date: \", value =\"\", regex = True)\n",
    "dF[\"mailContent\"] = dF[\"mailContent\"].replace(to_replace = \"<javascript:\", value =\"\", regex = True)\n",
    "dF[\"mail_x-humanist\"] = dF[\"mail_x-humanist\"].replace(to_replace = \"Humanist Discussion Group, \", value =\"\", regex = True)\n"
   ]
  },
  {
   "cell_type": "code",
   "execution_count": 229,
   "metadata": {},
   "outputs": [
    {
     "name": "stdout",
     "output_type": "stream",
     "text": [
      "2018\n"
     ]
    }
   ],
   "source": [
    "dF.fillna('', inplace=True)\n",
    "print(dF.loc[36051][\"mailYear\"])\n",
    "referenceYear = \"1987\"\n",
    "for i in range(len(dF)):\n",
    "    year = dF.loc[i][\"mailYear\"]\n",
    "    if (year == \"\"):\n",
    "        dF.loc[i, \"mailYear\"] = referenceYear\n",
    "    if (len(year) == 2):\n",
    "        year = '19' + year\n",
    "        referenceYear = year\n",
    "        dF.loc[i, \"mailYear\"] = year\n",
    "    if (len(year) == 4):\n",
    "        referenceYear = year\n",
    "    "
   ]
  },
  {
   "cell_type": "code",
   "execution_count": 230,
   "metadata": {},
   "outputs": [],
   "source": [
    "dF.loc[dF[\"mailDate\"].str.contains(r\"^<br>.*\", regex=True), [\"mailDate\"]] = \"\"\n",
    "dF.loc[dF['mailFrom'].isna() | (dF['mailFrom'] == ''), 'mailFrom'] = dF['mailContent'].str.extract(r\"<([^<>]*@[^<>]*)>\", expand=False)\n",
    "#dF.loc[dF['mailFrom'] == 'MCCARTY@UTOREPAS', 'mailFrom'] = dF['mailContent'].str.extract(r\"<([^<>]*@[^<>]*)>\", expand=False)\n"
   ]
  },
  {
   "cell_type": "code",
   "execution_count": 231,
   "metadata": {},
   "outputs": [],
   "source": [
    "dF[\"mailTimeZone\"] = dF[\"mailDate\"].str.extract(r\"([+-]0\\d{3}|[+-]1[0-8]\\d{2})\", expand=False)\n"
   ]
  },
  {
   "cell_type": "code",
   "execution_count": 232,
   "metadata": {},
   "outputs": [],
   "source": [
    "dF.loc[dF['mailTimeZone'].isna() | (dF['mailTimeZone'] == ''), 'mailTimeZone'] = dF['mailDate'].str.extract(r\"\\b([A-Z]{3,4})\\b\", expand=False)"
   ]
  },
  {
   "cell_type": "code",
   "execution_count": 233,
   "metadata": {},
   "outputs": [],
   "source": [
    "dF.loc[dF['mailTimeZone'].isna() | (dF['mailTimeZone'] == ''), 'mailTimeZone'] = dF['mailDate'].str.extract(r\"\\b([a-z]{3,4})\\b\", expand=False)"
   ]
  },
  {
   "cell_type": "code",
   "execution_count": 234,
   "metadata": {},
   "outputs": [],
   "source": [
    "dF.fillna('', inplace=True)\n",
    "dF.loc[dF[\"mailTimeZone\"].str.contains(r\"JAN|FEB|MAR|APR|MAY|JUN|JUL|AUG|SEP|OCT|NOV|DEZ\", regex=True), [\"mailTimeZone\"]] = \"\""
   ]
  },
  {
   "cell_type": "code",
   "execution_count": 235,
   "metadata": {},
   "outputs": [],
   "source": [
    "\n",
    "dF.loc[dF['mailTimeZone'].isna() | (dF['mailTimeZone'] == ''), 'mailTimeZone'] = dF['mailDate'].str.extract(r\"(?<=\\d{2}:\\d{2}\\s)([A-Za-z]{2,3})\", expand=False)"
   ]
  },
  {
   "cell_type": "code",
   "execution_count": 236,
   "metadata": {},
   "outputs": [],
   "source": [
    "timezone_mapping = {\n",
    "    'EST': '-0500',  # Eastern Standard Time\n",
    "    'est': '-0500',  # Eastern Standard Time\n",
    "    '-0500': '-0500',  # Eastern Standard Time\n",
    "    'EDT': '-0400',  # Eastern Daylight Time\n",
    "    'edt': '-0400',  # Eastern Daylight Time\n",
    "    '-0400': '-0400',  # Eastern Daylight Time\n",
    "    '+0400': '+0400', # Asia/Tehran\n",
    "    'CST': '-0600',  # Central Standard Time\n",
    "    'cst': '-0600',  # Central Standard Time\n",
    "    '-0600': '-0600',  # Central Standard Time\n",
    "    'CDT': '-0500',  # Central Daylight Time\n",
    "    'cdt': '-0500',  # Central Daylight Time\n",
    "    'MST': '-0700',  # Mountain Standard Time\n",
    "    'mst': '-0700',  # Mountain Standard Time\n",
    "    '-0700': '-0700',  # Mountain Standard Time\n",
    "    '+0700': '+0700', # Asia/Bangkok\n",
    "    'MDT': '-0600',  # Mountain Daylight Time\n",
    "    'mdt': '-0600',  # Mountain Daylight Time\n",
    "    'PST': '-0800',  # Pacific Standard Time\n",
    "    'pst': '-0800',  # Pacific Standard Time\n",
    "    '-0800': '-0800',  # Pacific Standard Time\n",
    "    'PDT': '-0700',  # Pacific Daylight Time\n",
    "    'pdt': '-0700',  # Pacific Daylight Time\n",
    "    'GMT': '+0000',  # Greenwich Mean Time\n",
    "    'gmt': '+0000',  # Greenwich Mean Time\n",
    "    '+0000': '+0000',  # Greenwich Mean Time\n",
    "    '-0000': '-0000',\n",
    "    'UTC': '+0000',   # Coordinated Universal Time\n",
    "    'utc': '+0000',   # Coordinated Universal Time\n",
    "    'AST': '-0400',  # Atlantic Standard Time\n",
    "    'ast': '-0400',  # Atlantic Standard Time\n",
    "    'ADT': '-0300',  # Atlantic Daylight Time\n",
    "    'adt': '-0300',  # Atlantic Daylight Time\n",
    "    '-0300': '-0300',  # Atlantic Daylight Time\n",
    "    'NST': '-0330',  # Newfoundland Standard Time\n",
    "    'nst': '-0330',  # Newfoundland Standard Time\n",
    "    '-0330': '-0330',  # Newfoundland Standard Time\n",
    "    'NDT': '-0230',  # Newfoundland Daylight Time\n",
    "    'ndt': '-0230',  # Newfoundland Daylight Time\n",
    "    '-0230': '-0230',  # Newfoundland Daylight Time\n",
    "    'AKST': '-0900',  # Alaska Standard Time\n",
    "    'akst': '-0900',  # Alaska Standard Time\n",
    "    '-0900': '-0900',  # Alaska Standard Time\n",
    "    'AKDT': '-0800',  # Alaska Daylight Time\n",
    "    'akdt': '-0800',  # Alaska Daylight Time\n",
    "    'HST': '-1000',  # Hawaii Standard Time\n",
    "    'hst': '-1000',  # Hawaii Standard Time\n",
    "    '-1000': '-1000',  # Hawaii Standard Time\n",
    "    'HDT': '-0900',  # Hawaii Daylight Time\n",
    "    'hdt': '-0900',  # Hawaii Daylight Time\n",
    "    'EMT': '+0100',\n",
    "    'emt': '+0100',\n",
    "    'BST': '+0100',  # British Summer Time\n",
    "    'bst': '+0100',\n",
    "    '+0100': '+0100',\n",
    "    'BDT': '+0600',\n",
    "    'bdt': '+0600',\n",
    "    '+0600': '+0600',\n",
    "    'IST': '+0530',  # Indian Standard Time\n",
    "    'ist': '+0530',\n",
    "    '+0530': '+0530',\n",
    "    'CET': '+0100',  # Central European Time\n",
    "    'cet': '+0100',\n",
    "    'ITA': '+0200',\n",
    "    'ita': '+0200',\n",
    "    'MEZ': '+0200',\n",
    "    'mez': '+0200', \n",
    "    'CEST': '+0200',  # Central European Summer Time\n",
    "    'cest': '+0200',\n",
    "    'EET': '+0200',  # Eastern European Time\n",
    "    'eet': '+0200',\n",
    "    '+0200': '+0200',\n",
    "    '-0200': '-0200', #America/SaoPaulo\n",
    "    'EEST': '+0300',  # Eastern European Summer Time\n",
    "    'eest': '+0300',\n",
    "    '+0300': '+0300',\n",
    "    'JST': '+0900',  # Japan Standard Time\n",
    "    'jst': '+0900',\n",
    "    'KST': '+0900',  # Korea Standard Time\n",
    "    'kst': '+0900',\n",
    "    '+0900': '+0900',\n",
    "    'AEST': '+1000',  # Australian Eastern Standard Time\n",
    "    'aest': '+1000',\n",
    "    '+1000': '+1000',\n",
    "    'AEDT': '+1100',  # Australian Eastern Daylight Time\n",
    "    'aedt': '+1100',\n",
    "    '+1100': '+1100',\n",
    "    'NZST': '+1200',  # New Zealand Standard Time\n",
    "    'nzst': '+1200',\n",
    "    '+1200': '+1200',\n",
    "    'NZDT': '+1300',  # New Zealand Daylight Time\n",
    "    'nzdt': '+1300',\n",
    "    '+1300': '+1300',\n",
    "    'MSK': '+0300',  # Moscow Time\n",
    "    'msk': '+0300',\n",
    "    'SGT': '+0800',  # Singapore Time\n",
    "    'sgt': '+0800',\n",
    "    'AWST': '+0800',  # Australian Western Standard Time\n",
    "    'awst': '+0800',\n",
    "    '+0800': '+0800',\n",
    "    'ACST': '+0930',  # Australian Central Standard Time\n",
    "    'acst': '+0930',\n",
    "    '+0930': '+0930',\n",
    "    'ACDT': '+1030',  # Australian Central Daylight Time\n",
    "    'acdt': '+1030',\n",
    "    '+1030': '+1030',\n",
    "    'WAT': '+0100',  # West Africa Time\n",
    "    'wat': '+0100',\n",
    "    'CAT': '+0200',  # Central Africa Time\n",
    "    'cat': '+0200',\n",
    "    'SAST': '+0200',  # South African Standard Time\n",
    "    'sast': '+0200',\n",
    "    'FJT': '+1200',  # Fiji Time\n",
    "    'fjt': '+1200',\n",
    "    'LKT': '+0530',  # Sri Lanka Time\n",
    "    'lkt': '+0530',\n",
    "    'MVT': '+0500',  # Maldives Time\n",
    "    'mvt': '+0500',\n",
    "    '+0500': '+0500',\n",
    "    'PHT': '+0800',  # Philippine Time\n",
    "    'pht': '+0800',\n",
    "    'IRKT': '+0800',  # Irkutsk Time\n",
    "    'irkt': '+0800',\n",
    "    'ULAT': '+0800',  # Ulaanbaatar Time\n",
    "    'ulat': '+0800',\n",
    "    'VET': '-0430',  # Venezuelan Standard Time\n",
    "    'vet': '-0430',\n",
    "    '-0430': '-0430',\n",
    "    'CLT': '-0300',  # Chile Standard Time\n",
    "    'clt': '-0300',\n",
    "    'CLST': '-0300',  # Chile Summer Time\n",
    "    'clst': '-0300',\n",
    "    'ART': '-0300',  # Argentina Time\n",
    "    'art': '-0300'\n",
    "}\n",
    "\n",
    "dF['mailTimeZone'] = dF['mailTimeZone'].map(timezone_mapping)"
   ]
  },
  {
   "cell_type": "code",
   "execution_count": 237,
   "metadata": {},
   "outputs": [],
   "source": [
    "dF[\"mailVolume\"] = dF[\"mail_x-humanist\"].str.extract(r\"(Vol\\. \\d{1,2})\", expand=False)"
   ]
  },
  {
   "cell_type": "code",
   "execution_count": 238,
   "metadata": {},
   "outputs": [],
   "source": [
    "#Search for multiple mails in mail_content and mark them with Y\n",
    "dF.loc[dF[\"mailContent\"].str.contains(r\"\\(1\\) ---+\", regex=True), [\"mailMultiple\"]] = \"Y\"\n",
    "dF.loc[dF[\"mailContent\"].str.contains(r\"\\(1\\)---+\", regex=True), [\"mailMultiple\"]] = \"Y\"\n",
    "dF.loc[dF[\"mailContent\"].str.contains(r\"\\[1\\]---+\", regex=True), [\"mailMultiple\"]] = \"Y\""
   ]
  },
  {
   "cell_type": "code",
   "execution_count": null,
   "metadata": {},
   "outputs": [],
   "source": [
    "dF = dF.applymap(str) "
   ]
  },
  {
   "cell_type": "code",
   "execution_count": 239,
   "metadata": {},
   "outputs": [
    {
     "data": {
      "text/plain": [
       "mailFrom                 0\n",
       "mailSubject              0\n",
       "mailDate                 0\n",
       "mail_x-humanist          0\n",
       "mailPattern              0\n",
       "mailHeader_count         0\n",
       "mailContent              0\n",
       "mailMultiple             0\n",
       "mailHeader_content       0\n",
       "mailYear                 0\n",
       "mailTimeZone          2583\n",
       "mailVolume              16\n",
       "dtype: int64"
      ]
     },
     "execution_count": 239,
     "metadata": {},
     "output_type": "execute_result"
    }
   ],
   "source": [
    "dF.isnull().sum()"
   ]
  },
  {
   "cell_type": "code",
   "execution_count": 240,
   "metadata": {},
   "outputs": [
    {
     "data": {
      "text/plain": [
       "mailFrom              object\n",
       "mailSubject           object\n",
       "mailDate              object\n",
       "mail_x-humanist       object\n",
       "mailPattern           object\n",
       "mailHeader_count       int64\n",
       "mailContent           object\n",
       "mailMultiple          object\n",
       "mailHeader_content    object\n",
       "mailYear              object\n",
       "mailTimeZone          object\n",
       "mailVolume            object\n",
       "dtype: object"
      ]
     },
     "execution_count": 240,
     "metadata": {},
     "output_type": "execute_result"
    }
   ],
   "source": [
    "dF.dtypes"
   ]
  },
  {
   "cell_type": "code",
   "execution_count": null,
   "metadata": {},
   "outputs": [],
   "source": [
    "y = []\n",
    "\n",
    "for i in range(len(dF)):\n",
    "    x = tuple(dF.iloc[i])\n",
    "    y.append(x)"
   ]
  },
  {
   "cell_type": "code",
   "execution_count": null,
   "metadata": {},
   "outputs": [],
   "source": [
    "file = open('emailarchives.txt', 'w')\n",
    "\n",
    "for tuple in y:\n",
    "    file.write(str(tuple) + ',' + '\\n')\n",
    "\n",
    "file.close()"
   ]
  },
  {
   "cell_type": "code",
   "execution_count": 241,
   "metadata": {},
   "outputs": [
    {
     "name": "stdout",
     "output_type": "stream",
     "text": [
      "1997\n"
     ]
    }
   ],
   "source": [
    "print(dF.loc[16660][\"mailYear\"])"
   ]
  },
  {
   "cell_type": "code",
   "execution_count": 242,
   "metadata": {},
   "outputs": [],
   "source": [
    "cols = ['mailPattern', 'mailHeader_count']\n",
    "dF.drop(cols, inplace=True, axis = 1)"
   ]
  },
  {
   "cell_type": "code",
   "execution_count": 243,
   "metadata": {},
   "outputs": [],
   "source": [
    "dF.to_csv('batest9.csv')"
   ]
  },
  {
   "cell_type": "code",
   "execution_count": null,
   "metadata": {},
   "outputs": [],
   "source": [
    "dF2 = pandas.DataFrame()"
   ]
  },
  {
   "cell_type": "code",
   "execution_count": null,
   "metadata": {},
   "outputs": [],
   "source": [
    "dF2 = dF.head(500)"
   ]
  },
  {
   "cell_type": "code",
   "execution_count": null,
   "metadata": {},
   "outputs": [],
   "source": [
    "dF2.to_csv('batest7.csv')"
   ]
  },
  {
   "cell_type": "code",
   "execution_count": null,
   "metadata": {},
   "outputs": [],
   "source": [
    "dF.to_csv('batest6.csv')"
   ]
  },
  {
   "cell_type": "code",
   "execution_count": null,
   "metadata": {},
   "outputs": [],
   "source": [
    "dF.head()"
   ]
  },
  {
   "cell_type": "code",
   "execution_count": null,
   "metadata": {},
   "outputs": [],
   "source": [
    "dF2 = pandas.DataFrame()\n",
    "dF3 = pandas.DataFrame()"
   ]
  },
  {
   "cell_type": "code",
   "execution_count": null,
   "metadata": {},
   "outputs": [],
   "source": [
    "dF2 = dF.head(100)"
   ]
  },
  {
   "cell_type": "code",
   "execution_count": null,
   "metadata": {},
   "outputs": [],
   "source": [
    "dF2.to_csv('batest4.csv')"
   ]
  },
  {
   "cell_type": "code",
   "execution_count": null,
   "metadata": {},
   "outputs": [],
   "source": [
    "dF3  =dF.head(1000)"
   ]
  },
  {
   "cell_type": "code",
   "execution_count": null,
   "metadata": {},
   "outputs": [],
   "source": [
    "dF3.to_csv('batest5.csv')"
   ]
  },
  {
   "cell_type": "code",
   "execution_count": null,
   "metadata": {},
   "outputs": [],
   "source": [
    "cols = ['pattern', 'header_count', 'multiple_mails']\n",
    "dF.drop(cols, inplace=True, axis = 1)"
   ]
  },
  {
   "cell_type": "code",
   "execution_count": null,
   "metadata": {},
   "outputs": [],
   "source": [
    "dF.head()"
   ]
  },
  {
   "cell_type": "code",
   "execution_count": null,
   "metadata": {},
   "outputs": [],
   "source": [
    "dF.dtypes"
   ]
  },
  {
   "cell_type": "code",
   "execution_count": null,
   "metadata": {},
   "outputs": [],
   "source": [
    "dF.to_csv('batest2.csv')"
   ]
  },
  {
   "cell_type": "code",
   "execution_count": null,
   "metadata": {},
   "outputs": [],
   "source": [
    "print(dF[dF[\"mailMultiple\"]== \"Y\"].count())"
   ]
  },
  {
   "cell_type": "code",
   "execution_count": null,
   "metadata": {},
   "outputs": [],
   "source": [
    "print(len(dF))\n",
    "print(dF.loc[1001][\"mailFrom\"])\n",
    "print(dF.loc[36051][\"mailContent\"])\n",
    "print(dF.loc[36051][\"mailYear\"])"
   ]
  },
  {
   "cell_type": "code",
   "execution_count": null,
   "metadata": {},
   "outputs": [],
   "source": [
    "print(lines_with_patterns[0][\"from\"])\n",
    "print(lines_with_patterns[0][\"date\"])\n",
    "print(lines_with_patterns[0])\n",
    "\n",
    "lines_with_patterns[0][\"date\"] = \"Test\"\n",
    "#lines_with_patterns[0].insert(\"date\",(\"TEST\"))\n",
    "print(lines_with_patterns[0])\n",
    "print(lines_with_patterns[0][\"date\"])\n"
   ]
  },
  {
   "cell_type": "code",
   "execution_count": null,
   "metadata": {},
   "outputs": [],
   "source": []
  }
 ],
 "metadata": {
  "kernelspec": {
   "display_name": ".venv",
   "language": "python",
   "name": "python3"
  },
  "language_info": {
   "codemirror_mode": {
    "name": "ipython",
    "version": 3
   },
   "file_extension": ".py",
   "mimetype": "text/x-python",
   "name": "python",
   "nbconvert_exporter": "python",
   "pygments_lexer": "ipython3",
   "version": "3.12.2"
  }
 },
 "nbformat": 4,
 "nbformat_minor": 2
}
